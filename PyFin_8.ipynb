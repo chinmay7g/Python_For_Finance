{
 "cells": [
  {
   "cell_type": "markdown",
   "metadata": {},
   "source": [
    "# Optimizer"
   ]
  },
  {
   "cell_type": "code",
   "execution_count": 1,
   "metadata": {},
   "outputs": [],
   "source": [
    "#importing libraries\n",
    "\n",
    "import pandas as pd\n",
    "import matplotlib.pyplot as plt\n",
    "import numpy as np\n",
    "import scipy.optimize as spo"
   ]
  },
  {
   "cell_type": "code",
   "execution_count": 4,
   "metadata": {},
   "outputs": [],
   "source": [
    "def f(x):\n",
    "    y = (x-1.5)**2 + 0.5\n",
    "    print(f'For X={x}-> Y={y}')\n",
    "    return y"
   ]
  },
  {
   "cell_type": "code",
   "execution_count": 5,
   "metadata": {},
   "outputs": [
    {
     "name": "stdout",
     "output_type": "stream",
     "text": [
      "For X=3.5-> Y=4.5\n"
     ]
    },
    {
     "data": {
      "text/plain": [
       "4.5"
      ]
     },
     "execution_count": 5,
     "metadata": {},
     "output_type": "execute_result"
    }
   ],
   "source": [
    "f(3.5)"
   ]
  },
  {
   "cell_type": "code",
   "execution_count": 8,
   "metadata": {},
   "outputs": [
    {
     "name": "stdout",
     "output_type": "stream",
     "text": [
      "For X=[1.  1.5 2.  2.5 3.  3.5 4.  4.5 5.  5.5 6.  6.5 7.  7.5 8.  8.5 9.  9.5]-> Y=[ 0.75  0.5   0.75  1.5   2.75  4.5   6.75  9.5  12.75 16.5  20.75 25.5\n",
      " 30.75 36.5  42.75 49.5  56.75 64.5 ]\n"
     ]
    },
    {
     "data": {
      "text/plain": [
       "array([ 0.75,  0.5 ,  0.75,  1.5 ,  2.75,  4.5 ,  6.75,  9.5 , 12.75,\n",
       "       16.5 , 20.75, 25.5 , 30.75, 36.5 , 42.75, 49.5 , 56.75, 64.5 ])"
      ]
     },
     "execution_count": 8,
     "metadata": {},
     "output_type": "execute_result"
    }
   ],
   "source": [
    "X = np.arange(1,10,0.5)\n",
    "f(X)"
   ]
  },
  {
   "cell_type": "code",
   "execution_count": 11,
   "metadata": {},
   "outputs": [
    {
     "name": "stdout",
     "output_type": "stream",
     "text": [
      "For X=[1.  1.5 2.  2.5 3.  3.5 4.  4.5 5.  5.5 6.  6.5 7.  7.5 8.  8.5 9.  9.5]-> Y=[ 0.75  0.5   0.75  1.5   2.75  4.5   6.75  9.5  12.75 16.5  20.75 25.5\n",
      " 30.75 36.5  42.75 49.5  56.75 64.5 ]\n"
     ]
    },
    {
     "data": {
      "image/png": "[encoded data removed]",
      "text/plain": [
       "<Figure size 432x288 with 1 Axes>"
      ]
     },
     "metadata": {
      "needs_background": "light"
     },
     "output_type": "display_data"
    }
   ],
   "source": [
    "# Plotting \n",
    "\n",
    "plt.plot( X, f(X))\n",
    "plt.show()"
   ]
  },
  {
   "cell_type": "markdown",
   "metadata": {},
   "source": [
    "# Building Optimizer"
   ]
  },
  {
   "cell_type": "code",
   "execution_count": 17,
   "metadata": {},
   "outputs": [
    {
     "name": "stdout",
     "output_type": "stream",
     "text": [
      "Optimization terminated successfully    (Exit mode 0)\n",
      "            Current function value: [0.5]\n",
      "            Iterations: 2\n",
      "            Function evaluations: 5\n",
      "            Gradient evaluations: 2\n",
      "Minima found at:\n",
      "X = [1.5], Y = [0.5]\n"
     ]
    },
    {
     "data": {
      "image/png": "[encoded data removed]",
      "text/plain": [
       "<Figure size 432x288 with 1 Axes>"
      ]
     },
     "metadata": {
      "needs_background": "light"
     },
     "output_type": "display_data"
    }
   ],
   "source": [
    "def f(X):\n",
    "    y = (X-1.5)**2 + 0.5\n",
    "    return y\n",
    "\n",
    "def test_run():\n",
    "    X_guess = 2.0\n",
    "    min_result = spo.minimize(f, X_guess, method='SLSQP', options={'disp':True})\n",
    "    print('Minima found at:')\n",
    "    print(f'X = {min_result.x}, Y = {min_result.fun}')\n",
    "    \n",
    "    x_plot = np.linspace(0.5, 2.5, 21)\n",
    "    y_plot = f(x_plot)\n",
    "    plt.plot(X_plot, y_plot)\n",
    "    plt.plot(min_result.x, min_result.fun, 'ro')\n",
    "    plt.show()\n",
    "    \n",
    "if __name__ == '__main__':\n",
    "    test_run()"
   ]
  },
  {
   "cell_type": "code",
   "execution_count": null,
   "metadata": {},
   "outputs": [],
   "source": []
  },
  {
   "cell_type": "code",
   "execution_count": null,
   "metadata": {},
   "outputs": [],
   "source": []
  }
 ],
 "metadata": {
  "kernelspec": {
   "display_name": "Python 3",
   "language": "python",
   "name": "python3"
  },
  "language_info": {
   "codemirror_mode": {
    "name": "ipython",
    "version": 3
   },
   "file_extension": ".py",
   "mimetype": "text/x-python",
   "name": "python",
   "nbconvert_exporter": "python",
   "pygments_lexer": "ipython3",
   "version": "3.8.5"
  }
 },
 "nbformat": 4,
 "nbformat_minor": 4
}
