{
 "cells": [
  {
   "cell_type": "markdown",
   "metadata": {},
   "source": [
    "# UDACITY MACHINE LEARNING FOR FINANCE"
   ]
  },
  {
   "cell_type": "markdown",
   "metadata": {},
   "source": [
    "### Lesson 1"
   ]
  },
  {
   "cell_type": "code",
   "execution_count": 1,
   "metadata": {},
   "outputs": [],
   "source": [
    "#loading the libraries\n",
    "\n",
    "import numpy as np\n",
    "import pandas as pd\n",
    "import matplotlib.pyplot as plt"
   ]
  },
  {
   "cell_type": "code",
   "execution_count": 3,
   "metadata": {},
   "outputs": [
    {
     "name": "stdout",
     "output_type": "stream",
     "text": [
      "0       93.514290\n",
      "1       94.556244\n",
      "2       91.683792\n",
      "3       98.771042\n",
      "4      101.380676\n",
      "5      102.328766\n",
      "6      107.646675\n",
      "7      109.805626\n",
      "8      112.124863\n",
      "9      108.419746\n",
      "10     103.451294\n",
      "11     105.383980\n",
      "12     107.467529\n",
      "13     103.074181\n",
      "14     105.600830\n",
      "15      99.925285\n",
      "16     106.515343\n",
      "17     110.456146\n",
      "18     112.124863\n",
      "19     120.281372\n",
      "20     122.571915\n",
      "21     121.587555\n",
      "22     119.827042\n",
      "23     116.978073\n",
      "24     119.164505\n",
      "25     116.656273\n",
      "26     118.615524\n",
      "27     120.300301\n",
      "28     118.076019\n",
      "29     123.310150\n",
      "          ...    \n",
      "154    158.660431\n",
      "155    150.731384\n",
      "156    152.944366\n",
      "157    154.115372\n",
      "158    155.792496\n",
      "159    155.058121\n",
      "160    161.806259\n",
      "161    171.184174\n",
      "162    173.337601\n",
      "163    169.459091\n",
      "164    174.259521\n",
      "165    170.355438\n",
      "166    168.682251\n",
      "167    173.263580\n",
      "168    174.299362\n",
      "169    168.542831\n",
      "170    174.289398\n",
      "171    176.370911\n",
      "172    177.735352\n",
      "173    170.813568\n",
      "174    159.848282\n",
      "175    155.774887\n",
      "176    172.429993\n",
      "177    175.500000\n",
      "178    176.210007\n",
      "179    179.979996\n",
      "180    178.020004\n",
      "181    164.940002\n",
      "182    167.779999\n",
      "183    167.779999\n",
      "Name: Adj Close, Length: 184, dtype: float64\n"
     ]
    },
    {
     "data": {
      "image/png": "[encoded data removed]",
      "text/plain": [
       "<Figure size 432x288 with 1 Axes>"
      ]
     },
     "metadata": {
      "needs_background": "light"
     },
     "output_type": "display_data"
    }
   ],
   "source": [
    "#defining the main function\n",
    "\n",
    "def test_run():\n",
    "    df = pd.read_csv(r'C:\\Users\\Administrator\\Desktop\\DATA\\Python Test Data\\Stock\\apple\\AAPL.csv')\n",
    "    print(df['Adj Close'])\n",
    "    df['Adj Close'].plot()\n",
    "    plt.show()\n",
    "    \n",
    "    \n",
    "if __name__ == '__main__':\n",
    "    test_run()"
   ]
  },
  {
   "cell_type": "code",
   "execution_count": 4,
   "metadata": {},
   "outputs": [
    {
     "data": {
      "text/html": [
       "<div>\n",
       "<style scoped>\n",
       "    .dataframe tbody tr th:only-of-type {\n",
       "        vertical-align: middle;\n",
       "    }\n",
       "\n",
       "    .dataframe tbody tr th {\n",
       "        vertical-align: top;\n",
       "    }\n",
       "\n",
       "    .dataframe thead th {\n",
       "        text-align: right;\n",
       "    }\n",
       "</style>\n",
       "<table border=\"1\" class=\"dataframe\">\n",
       "  <thead>\n",
       "    <tr style=\"text-align: right;\">\n",
       "      <th></th>\n",
       "      <th>High</th>\n",
       "      <th>Low</th>\n",
       "      <th>Open</th>\n",
       "      <th>Close</th>\n",
       "      <th>Volume</th>\n",
       "      <th>Adj Close</th>\n",
       "    </tr>\n",
       "    <tr>\n",
       "      <th>Date</th>\n",
       "      <th></th>\n",
       "      <th></th>\n",
       "      <th></th>\n",
       "      <th></th>\n",
       "      <th></th>\n",
       "      <th></th>\n",
       "    </tr>\n",
       "  </thead>\n",
       "  <tbody>\n",
       "    <tr>\n",
       "      <th>2018-01-02</th>\n",
       "      <td>154.809998</td>\n",
       "      <td>153.539993</td>\n",
       "      <td>154.500000</td>\n",
       "      <td>154.250000</td>\n",
       "      <td>4202500.0</td>\n",
       "      <td>133.803574</td>\n",
       "    </tr>\n",
       "    <tr>\n",
       "      <th>2018-01-03</th>\n",
       "      <td>159.809998</td>\n",
       "      <td>156.330002</td>\n",
       "      <td>157.339996</td>\n",
       "      <td>158.490005</td>\n",
       "      <td>9441600.0</td>\n",
       "      <td>137.481537</td>\n",
       "    </tr>\n",
       "    <tr>\n",
       "      <th>2018-01-04</th>\n",
       "      <td>162.320007</td>\n",
       "      <td>159.369995</td>\n",
       "      <td>159.649994</td>\n",
       "      <td>161.699997</td>\n",
       "      <td>7556200.0</td>\n",
       "      <td>140.266037</td>\n",
       "    </tr>\n",
       "    <tr>\n",
       "      <th>2018-01-05</th>\n",
       "      <td>162.899994</td>\n",
       "      <td>161.100006</td>\n",
       "      <td>162.440002</td>\n",
       "      <td>162.490005</td>\n",
       "      <td>5195800.0</td>\n",
       "      <td>140.951324</td>\n",
       "    </tr>\n",
       "    <tr>\n",
       "      <th>2018-01-08</th>\n",
       "      <td>163.910004</td>\n",
       "      <td>161.699997</td>\n",
       "      <td>162.660004</td>\n",
       "      <td>163.470001</td>\n",
       "      <td>5237500.0</td>\n",
       "      <td>141.801422</td>\n",
       "    </tr>\n",
       "  </tbody>\n",
       "</table>\n",
       "</div>"
      ],
      "text/plain": [
       "                  High         Low        Open       Close     Volume  \\\n",
       "Date                                                                    \n",
       "2018-01-02  154.809998  153.539993  154.500000  154.250000  4202500.0   \n",
       "2018-01-03  159.809998  156.330002  157.339996  158.490005  9441600.0   \n",
       "2018-01-04  162.320007  159.369995  159.649994  161.699997  7556200.0   \n",
       "2018-01-05  162.899994  161.100006  162.440002  162.490005  5195800.0   \n",
       "2018-01-08  163.910004  161.699997  162.660004  163.470001  5237500.0   \n",
       "\n",
       "             Adj Close  \n",
       "Date                    \n",
       "2018-01-02  133.803574  \n",
       "2018-01-03  137.481537  \n",
       "2018-01-04  140.266037  \n",
       "2018-01-05  140.951324  \n",
       "2018-01-08  141.801422  "
      ]
     },
     "execution_count": 4,
     "metadata": {},
     "output_type": "execute_result"
    }
   ],
   "source": [
    "import pandas_datareader.data as web\n",
    "import datetime\n",
    "\n",
    "start = datetime.datetime(2018,1,1)\n",
    "end = datetime.datetime(2020,1,1)\n",
    "\n",
    "data = web.DataReader('IBM', 'yahoo', start, end)\n",
    "data.head()\n"
   ]
  },
  {
   "cell_type": "code",
   "execution_count": 11,
   "metadata": {},
   "outputs": [
    {
     "data": {
      "text/plain": [
       "<Figure size 1440x720 with 0 Axes>"
      ]
     },
     "metadata": {},
     "output_type": "display_data"
    },
    {
     "data": {
      "image/png": "[encoded data removed]",
      "text/plain": [
       "<Figure size 432x288 with 1 Axes>"
      ]
     },
     "metadata": {
      "needs_background": "light"
     },
     "output_type": "display_data"
    }
   ],
   "source": [
    "# Plotting Data\n",
    "\n",
    "plt.figure(figsize=[20,10])\n",
    "data[[\"Open\", \"Close\", \"Adj Close\"]].plot()\n",
    "plt.show()"
   ]
  },
  {
   "cell_type": "markdown",
   "metadata": {},
   "source": [
    "## Loading multiple stock data"
   ]
  },
  {
   "cell_type": "code",
   "execution_count": 21,
   "metadata": {},
   "outputs": [
    {
     "data": {
      "text/html": [
       "<div>\n",
       "<style scoped>\n",
       "    .dataframe tbody tr th:only-of-type {\n",
       "        vertical-align: middle;\n",
       "    }\n",
       "\n",
       "    .dataframe tbody tr th {\n",
       "        vertical-align: top;\n",
       "    }\n",
       "\n",
       "    .dataframe thead th {\n",
       "        text-align: right;\n",
       "    }\n",
       "</style>\n",
       "<table border=\"1\" class=\"dataframe\">\n",
       "  <thead>\n",
       "    <tr style=\"text-align: right;\">\n",
       "      <th>Symbols</th>\n",
       "      <th>BAC</th>\n",
       "      <th>BRK-A</th>\n",
       "      <th>GS</th>\n",
       "      <th>JPM</th>\n",
       "    </tr>\n",
       "    <tr>\n",
       "      <th>Date</th>\n",
       "      <th></th>\n",
       "      <th></th>\n",
       "      <th></th>\n",
       "      <th></th>\n",
       "    </tr>\n",
       "  </thead>\n",
       "  <tbody>\n",
       "    <tr>\n",
       "      <th>2018-01-02</th>\n",
       "      <td>27.957329</td>\n",
       "      <td>295755.0</td>\n",
       "      <td>241.290482</td>\n",
       "      <td>98.044830</td>\n",
       "    </tr>\n",
       "    <tr>\n",
       "      <th>2018-01-03</th>\n",
       "      <td>27.863823</td>\n",
       "      <td>299905.0</td>\n",
       "      <td>239.044327</td>\n",
       "      <td>98.144745</td>\n",
       "    </tr>\n",
       "    <tr>\n",
       "      <th>2018-01-04</th>\n",
       "      <td>28.228485</td>\n",
       "      <td>300516.0</td>\n",
       "      <td>242.385223</td>\n",
       "      <td>99.550728</td>\n",
       "    </tr>\n",
       "    <tr>\n",
       "      <th>2018-01-05</th>\n",
       "      <td>28.359392</td>\n",
       "      <td>301525.0</td>\n",
       "      <td>241.148911</td>\n",
       "      <td>98.911636</td>\n",
       "    </tr>\n",
       "    <tr>\n",
       "      <th>2018-01-08</th>\n",
       "      <td>28.163034</td>\n",
       "      <td>304180.0</td>\n",
       "      <td>237.647583</td>\n",
       "      <td>99.057709</td>\n",
       "    </tr>\n",
       "  </tbody>\n",
       "</table>\n",
       "</div>"
      ],
      "text/plain": [
       "Symbols           BAC     BRK-A          GS        JPM\n",
       "Date                                                  \n",
       "2018-01-02  27.957329  295755.0  241.290482  98.044830\n",
       "2018-01-03  27.863823  299905.0  239.044327  98.144745\n",
       "2018-01-04  28.228485  300516.0  242.385223  99.550728\n",
       "2018-01-05  28.359392  301525.0  241.148911  98.911636\n",
       "2018-01-08  28.163034  304180.0  237.647583  99.057709"
      ]
     },
     "execution_count": 21,
     "metadata": {},
     "output_type": "execute_result"
    }
   ],
   "source": [
    "stocks_list = ['BRK-A', 'GS', 'JPM', 'BAC']\n",
    "\n",
    "dataframe = web.DataReader(stocks_list, 'yahoo', start, end)['Adj Close']\n",
    "dataframe.head()"
   ]
  },
  {
   "cell_type": "markdown",
   "metadata": {},
   "source": [
    "### That was a shitty display"
   ]
  },
  {
   "cell_type": "markdown",
   "metadata": {},
   "source": [
    "## Version 2.0 "
   ]
  },
  {
   "cell_type": "code",
   "execution_count": 19,
   "metadata": {},
   "outputs": [],
   "source": []
  },
  {
   "cell_type": "code",
   "execution_count": 20,
   "metadata": {},
   "outputs": [
    {
     "data": {
      "text/html": [
       "<div>\n",
       "<style scoped>\n",
       "    .dataframe tbody tr th:only-of-type {\n",
       "        vertical-align: middle;\n",
       "    }\n",
       "\n",
       "    .dataframe tbody tr th {\n",
       "        vertical-align: top;\n",
       "    }\n",
       "\n",
       "    .dataframe thead th {\n",
       "        text-align: right;\n",
       "    }\n",
       "</style>\n",
       "<table border=\"1\" class=\"dataframe\">\n",
       "  <thead>\n",
       "    <tr style=\"text-align: right;\">\n",
       "      <th></th>\n",
       "    </tr>\n",
       "  </thead>\n",
       "  <tbody>\n",
       "    <tr>\n",
       "      <th>2019-01-01</th>\n",
       "    </tr>\n",
       "    <tr>\n",
       "      <th>2019-01-02</th>\n",
       "    </tr>\n",
       "    <tr>\n",
       "      <th>2019-01-03</th>\n",
       "    </tr>\n",
       "    <tr>\n",
       "      <th>2019-01-04</th>\n",
       "    </tr>\n",
       "    <tr>\n",
       "      <th>2019-01-05</th>\n",
       "    </tr>\n",
       "  </tbody>\n",
       "</table>\n",
       "</div>"
      ],
      "text/plain": [
       "Empty DataFrame\n",
       "Columns: []\n",
       "Index: [2019-01-01 00:00:00, 2019-01-02 00:00:00, 2019-01-03 00:00:00, 2019-01-04 00:00:00, 2019-01-05 00:00:00]"
      ]
     },
     "execution_count": 20,
     "metadata": {},
     "output_type": "execute_result"
    }
   ],
   "source": [
    "\n",
    "start_date = '2019-01-01'\n",
    "end_date = '2020-01-01'\n",
    "dates = pd.date_range(start_date, end_date)\n",
    "df1 = pd.DataFrame(index=dates) #creating empty dataframe\n",
    "df1.head()\n"
   ]
  },
  {
   "cell_type": "markdown",
   "metadata": {},
   "source": [
    "# Using yfinance API "
   ]
  },
  {
   "cell_type": "code",
   "execution_count": 22,
   "metadata": {},
   "outputs": [
    {
     "name": "stdout",
     "output_type": "stream",
     "text": [
      "[*********************100%***********************]  4 of 4 completed\n"
     ]
    },
    {
     "data": {
      "text/html": [
       "<div>\n",
       "<style scoped>\n",
       "    .dataframe tbody tr th:only-of-type {\n",
       "        vertical-align: middle;\n",
       "    }\n",
       "\n",
       "    .dataframe tbody tr th {\n",
       "        vertical-align: top;\n",
       "    }\n",
       "\n",
       "    .dataframe thead th {\n",
       "        text-align: right;\n",
       "    }\n",
       "</style>\n",
       "<table border=\"1\" class=\"dataframe\">\n",
       "  <thead>\n",
       "    <tr style=\"text-align: right;\">\n",
       "      <th></th>\n",
       "      <th>BAC</th>\n",
       "      <th>BRK-A</th>\n",
       "      <th>GS</th>\n",
       "      <th>JPM</th>\n",
       "    </tr>\n",
       "    <tr>\n",
       "      <th>Date</th>\n",
       "      <th></th>\n",
       "      <th></th>\n",
       "      <th></th>\n",
       "      <th></th>\n",
       "    </tr>\n",
       "  </thead>\n",
       "  <tbody>\n",
       "    <tr>\n",
       "      <th>2018-12-31</th>\n",
       "      <td>23.462660</td>\n",
       "      <td>306000.0</td>\n",
       "      <td>159.826370</td>\n",
       "      <td>90.693993</td>\n",
       "    </tr>\n",
       "    <tr>\n",
       "      <th>2019-01-02</th>\n",
       "      <td>23.767370</td>\n",
       "      <td>304057.0</td>\n",
       "      <td>164.590988</td>\n",
       "      <td>92.264069</td>\n",
       "    </tr>\n",
       "    <tr>\n",
       "      <th>2019-01-03</th>\n",
       "      <td>23.386484</td>\n",
       "      <td>287000.0</td>\n",
       "      <td>162.179962</td>\n",
       "      <td>90.952843</td>\n",
       "    </tr>\n",
       "    <tr>\n",
       "      <th>2019-01-04</th>\n",
       "      <td>24.357744</td>\n",
       "      <td>292500.0</td>\n",
       "      <td>167.480408</td>\n",
       "      <td>94.305870</td>\n",
       "    </tr>\n",
       "    <tr>\n",
       "      <th>2019-01-07</th>\n",
       "      <td>24.338699</td>\n",
       "      <td>295400.0</td>\n",
       "      <td>168.408463</td>\n",
       "      <td>94.371429</td>\n",
       "    </tr>\n",
       "  </tbody>\n",
       "</table>\n",
       "</div>"
      ],
      "text/plain": [
       "                  BAC     BRK-A          GS        JPM\n",
       "Date                                                  \n",
       "2018-12-31  23.462660  306000.0  159.826370  90.693993\n",
       "2019-01-02  23.767370  304057.0  164.590988  92.264069\n",
       "2019-01-03  23.386484  287000.0  162.179962  90.952843\n",
       "2019-01-04  24.357744  292500.0  167.480408  94.305870\n",
       "2019-01-07  24.338699  295400.0  168.408463  94.371429"
      ]
     },
     "execution_count": 22,
     "metadata": {},
     "output_type": "execute_result"
    }
   ],
   "source": [
    "#importing libraries\n",
    "\n",
    "import yfinance as yf\n",
    "\n",
    "stock_list = ['GS', 'BAC','BRK-A', 'JPM']\n",
    "\n",
    "df1 = yf.download(stock_list, '2019-01-01', '2020-01-01')['Adj Close']\n",
    "df1.head()"
   ]
  },
  {
   "cell_type": "code",
   "execution_count": null,
   "metadata": {},
   "outputs": [],
   "source": []
  },
  {
   "cell_type": "code",
   "execution_count": null,
   "metadata": {},
   "outputs": [],
   "source": []
  },
  {
   "cell_type": "code",
   "execution_count": null,
   "metadata": {},
   "outputs": [],
   "source": []
  },
  {
   "cell_type": "code",
   "execution_count": null,
   "metadata": {},
   "outputs": [],
   "source": []
  }
 ],
 "metadata": {
  "kernelspec": {
   "display_name": "Python 3",
   "language": "python",
   "name": "python3"
  },
  "language_info": {
   "codemirror_mode": {
    "name": "ipython",
    "version": 3
   },
   "file_extension": ".py",
   "mimetype": "text/x-python",
   "name": "python",
   "nbconvert_exporter": "python",
   "pygments_lexer": "ipython3",
   "version": "3.7.4"
  }
 },
 "nbformat": 4,
 "nbformat_minor": 2
}
