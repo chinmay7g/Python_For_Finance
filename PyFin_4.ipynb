{
 "cells": [
  {
   "cell_type": "markdown",
   "metadata": {},
   "source": [
    "# Learning how to time the files and operations"
   ]
  },
  {
   "cell_type": "code",
   "execution_count": 15,
   "metadata": {},
   "outputs": [],
   "source": [
    "# importing libraries\n",
    "\n",
    "import numpy as np\n",
    "import pandas as pd\n",
    "import time\n",
    "import yfinance as yf\n",
    "import matplotlib.pyplot as plt"
   ]
  },
  {
   "cell_type": "code",
   "execution_count": 17,
   "metadata": {},
   "outputs": [],
   "source": [
    "#let's make a function out of this again\n",
    "\n",
    "\n",
    "def load_stocks(stock_list, start, end):\n",
    "    data = yf.download(stock_list, start, end)\n",
    "    return data['Adj Close']\n",
    "\n",
    "def desc_stats(dataframe):\n",
    "    return dataframe.describe()"
   ]
  },
  {
   "cell_type": "code",
   "execution_count": 22,
   "metadata": {},
   "outputs": [
    {
     "name": "stdout",
     "output_type": "stream",
     "text": [
      "[*********************100%***********************]  3 of 3 completed\n",
      "Time taken to load stocks : 0.8555972576141357 seconds\n"
     ]
    }
   ],
   "source": [
    "stocks = ['JPM', 'GS', 'BAC']\n",
    "start = '2018-01-01'\n",
    "end = '2021-01-01'\n",
    "\n",
    "t1 = time.time()\n",
    "df = load_stocks(stocks, start,end)\n",
    "t2 = time.time()\n",
    "\n",
    "print(f'Time taken to load stocks : {t2-t1} seconds')"
   ]
  },
  {
   "cell_type": "code",
   "execution_count": 19,
   "metadata": {},
   "outputs": [
    {
     "data": {
      "text/html": [
       "<div>\n",
       "<style scoped>\n",
       "    .dataframe tbody tr th:only-of-type {\n",
       "        vertical-align: middle;\n",
       "    }\n",
       "\n",
       "    .dataframe tbody tr th {\n",
       "        vertical-align: top;\n",
       "    }\n",
       "\n",
       "    .dataframe thead th {\n",
       "        text-align: right;\n",
       "    }\n",
       "</style>\n",
       "<table border=\"1\" class=\"dataframe\">\n",
       "  <thead>\n",
       "    <tr style=\"text-align: right;\">\n",
       "      <th></th>\n",
       "      <th>BAC</th>\n",
       "      <th>GS</th>\n",
       "      <th>JPM</th>\n",
       "    </tr>\n",
       "    <tr>\n",
       "      <th>Date</th>\n",
       "      <th></th>\n",
       "      <th></th>\n",
       "      <th></th>\n",
       "    </tr>\n",
       "  </thead>\n",
       "  <tbody>\n",
       "    <tr>\n",
       "      <th>2018-01-02</th>\n",
       "      <td>27.957329</td>\n",
       "      <td>241.290482</td>\n",
       "      <td>98.044830</td>\n",
       "    </tr>\n",
       "    <tr>\n",
       "      <th>2018-01-03</th>\n",
       "      <td>27.863823</td>\n",
       "      <td>239.044327</td>\n",
       "      <td>98.144745</td>\n",
       "    </tr>\n",
       "    <tr>\n",
       "      <th>2018-01-04</th>\n",
       "      <td>28.228485</td>\n",
       "      <td>242.385223</td>\n",
       "      <td>99.550728</td>\n",
       "    </tr>\n",
       "    <tr>\n",
       "      <th>2018-01-05</th>\n",
       "      <td>28.359392</td>\n",
       "      <td>241.148911</td>\n",
       "      <td>98.911636</td>\n",
       "    </tr>\n",
       "    <tr>\n",
       "      <th>2018-01-08</th>\n",
       "      <td>28.163034</td>\n",
       "      <td>237.647583</td>\n",
       "      <td>99.057709</td>\n",
       "    </tr>\n",
       "    <tr>\n",
       "      <th>2018-01-09</th>\n",
       "      <td>28.303289</td>\n",
       "      <td>239.657822</td>\n",
       "      <td>99.559853</td>\n",
       "    </tr>\n",
       "    <tr>\n",
       "      <th>2018-01-10</th>\n",
       "      <td>28.565096</td>\n",
       "      <td>240.025833</td>\n",
       "      <td>100.655426</td>\n",
       "    </tr>\n",
       "    <tr>\n",
       "      <th>2018-01-11</th>\n",
       "      <td>28.667950</td>\n",
       "      <td>240.780884</td>\n",
       "      <td>101.194084</td>\n",
       "    </tr>\n",
       "    <tr>\n",
       "      <th>2018-01-12</th>\n",
       "      <td>29.163519</td>\n",
       "      <td>242.574020</td>\n",
       "      <td>102.864822</td>\n",
       "    </tr>\n",
       "    <tr>\n",
       "      <th>2018-01-16</th>\n",
       "      <td>29.210262</td>\n",
       "      <td>243.923553</td>\n",
       "      <td>102.499626</td>\n",
       "    </tr>\n",
       "  </tbody>\n",
       "</table>\n",
       "</div>"
      ],
      "text/plain": [
       "                  BAC          GS         JPM\n",
       "Date                                         \n",
       "2018-01-02  27.957329  241.290482   98.044830\n",
       "2018-01-03  27.863823  239.044327   98.144745\n",
       "2018-01-04  28.228485  242.385223   99.550728\n",
       "2018-01-05  28.359392  241.148911   98.911636\n",
       "2018-01-08  28.163034  237.647583   99.057709\n",
       "2018-01-09  28.303289  239.657822   99.559853\n",
       "2018-01-10  28.565096  240.025833  100.655426\n",
       "2018-01-11  28.667950  240.780884  101.194084\n",
       "2018-01-12  29.163519  242.574020  102.864822\n",
       "2018-01-16  29.210262  243.923553  102.499626"
      ]
     },
     "execution_count": 19,
     "metadata": {},
     "output_type": "execute_result"
    }
   ],
   "source": [
    "df.head(10)"
   ]
  },
  {
   "cell_type": "code",
   "execution_count": 25,
   "metadata": {},
   "outputs": [
    {
     "name": "stdout",
     "output_type": "stream",
     "text": [
      "Time taken to display is : 0.015625476837158203 seconds\n"
     ]
    }
   ],
   "source": [
    "t3 = time.time()\n",
    "df2 = desc_stats(df)\n",
    "t4 = time.time()\n",
    "print(f'Time taken to display is : {t4-t3} seconds')"
   ]
  },
  {
   "cell_type": "code",
   "execution_count": 30,
   "metadata": {},
   "outputs": [
    {
     "name": "stdout",
     "output_type": "stream",
     "text": [
      "              BAC          GS         JPM\n",
      "count  756.000000  756.000000  756.000000\n",
      "mean    27.441361  207.503397  104.658428\n",
      "std      3.002912   23.556644   11.296779\n",
      "min     17.720133  132.601578   76.201401\n",
      "25%     25.493968  192.007275   97.740822\n",
      "50%     27.705648  206.438217  102.399509\n",
      "75%     29.108846  223.946171  107.907919\n",
      "max     34.709141  263.709991  135.172424\n"
     ]
    }
   ],
   "source": [
    "print(df2)"
   ]
  },
  {
   "cell_type": "code",
   "execution_count": 24,
   "metadata": {},
   "outputs": [
    {
     "name": "stdout",
     "output_type": "stream",
     "text": [
      "Time taken to plot: 0.0944058895111084 seconds\n"
     ]
    },
    {
     "data": {
      "text/plain": [
       "<Figure size 1440x720 with 0 Axes>"
      ]
     },
     "metadata": {},
     "output_type": "display_data"
    },
    {
     "data": {
      "image/png": "[encoded data removed]",
      "text/plain": [
       "<Figure size 432x288 with 1 Axes>"
      ]
     },
     "metadata": {
      "needs_background": "light"
     },
     "output_type": "display_data"
    }
   ],
   "source": [
    "plt.figure(figsize=[20,10])\n",
    "\n",
    "t5 = time.time()\n",
    "df1 = df / df.iloc[0,:]\n",
    "df1.plot()\n",
    "t6 = time.time()\n",
    "\n",
    "print(f'Time taken to plot: {t6-t5} seconds')"
   ]
  },
  {
   "cell_type": "markdown",
   "metadata": {},
   "source": [
    "# Printing the global statistics"
   ]
  },
  {
   "cell_type": "code",
   "execution_count": 31,
   "metadata": {},
   "outputs": [
    {
     "name": "stdout",
     "output_type": "stream",
     "text": [
      "BAC     27.441361\n",
      "GS     207.503397\n",
      "JPM    104.658428\n",
      "dtype: float64\n"
     ]
    }
   ],
   "source": [
    "print(df.mean())"
   ]
  },
  {
   "cell_type": "code",
   "execution_count": 32,
   "metadata": {},
   "outputs": [
    {
     "name": "stdout",
     "output_type": "stream",
     "text": [
      "BAC     3.002912\n",
      "GS     23.556644\n",
      "JPM    11.296779\n",
      "dtype: float64\n"
     ]
    }
   ],
   "source": [
    "print(df.std())"
   ]
  },
  {
   "cell_type": "code",
   "execution_count": null,
   "metadata": {},
   "outputs": [],
   "source": []
  }
 ],
 "metadata": {
  "kernelspec": {
   "display_name": "Python 3",
   "language": "python",
   "name": "python3"
  },
  "language_info": {
   "codemirror_mode": {
    "name": "ipython",
    "version": 3
   },
   "file_extension": ".py",
   "mimetype": "text/x-python",
   "name": "python",
   "nbconvert_exporter": "python",
   "pygments_lexer": "ipython3",
   "version": "3.8.5"
  }
 },
 "nbformat": 4,
 "nbformat_minor": 4
}
