{
 "cells": [
  {
   "cell_type": "markdown",
   "metadata": {},
   "source": [
    "# Slicing + Dicing"
   ]
  },
  {
   "cell_type": "code",
   "execution_count": 1,
   "metadata": {},
   "outputs": [],
   "source": [
    "#importing libraries\n",
    "\n",
    "import pandas as pd\n",
    "import numpy as np\n",
    "import matplotlib.pyplot as plt\n",
    "import yfinance as yf"
   ]
  },
  {
   "cell_type": "code",
   "execution_count": 2,
   "metadata": {},
   "outputs": [],
   "source": [
    "def get_stock_data(stocks, start, end):\n",
    "    df = yf.download(stocks, start, end)\n",
    "    return df['Adj Close']"
   ]
  },
  {
   "cell_type": "code",
   "execution_count": 3,
   "metadata": {},
   "outputs": [
    {
     "name": "stdout",
     "output_type": "stream",
     "text": [
      "[*********************100%***********************]  4 of 4 completed\n"
     ]
    }
   ],
   "source": [
    "instruments = ['JPM', 'GS', 'GC=F', 'BAC']\n",
    "start = '2018-01-01'\n",
    "end = '2021-01-01'\n",
    "\n",
    "df = get_stock_data(instruments, start, end)"
   ]
  },
  {
   "cell_type": "code",
   "execution_count": 4,
   "metadata": {},
   "outputs": [
    {
     "data": {
      "text/html": [
       "<div>\n",
       "<style scoped>\n",
       "    .dataframe tbody tr th:only-of-type {\n",
       "        vertical-align: middle;\n",
       "    }\n",
       "\n",
       "    .dataframe tbody tr th {\n",
       "        vertical-align: top;\n",
       "    }\n",
       "\n",
       "    .dataframe thead th {\n",
       "        text-align: right;\n",
       "    }\n",
       "</style>\n",
       "<table border=\"1\" class=\"dataframe\">\n",
       "  <thead>\n",
       "    <tr style=\"text-align: right;\">\n",
       "      <th></th>\n",
       "      <th>BAC</th>\n",
       "      <th>GC=F</th>\n",
       "      <th>GS</th>\n",
       "      <th>JPM</th>\n",
       "    </tr>\n",
       "    <tr>\n",
       "      <th>Date</th>\n",
       "      <th></th>\n",
       "      <th></th>\n",
       "      <th></th>\n",
       "      <th></th>\n",
       "    </tr>\n",
       "  </thead>\n",
       "  <tbody>\n",
       "    <tr>\n",
       "      <th>2018-01-02</th>\n",
       "      <td>27.957329</td>\n",
       "      <td>1313.699951</td>\n",
       "      <td>241.290482</td>\n",
       "      <td>98.044830</td>\n",
       "    </tr>\n",
       "    <tr>\n",
       "      <th>2018-01-03</th>\n",
       "      <td>27.863823</td>\n",
       "      <td>1316.199951</td>\n",
       "      <td>239.044327</td>\n",
       "      <td>98.144745</td>\n",
       "    </tr>\n",
       "    <tr>\n",
       "      <th>2018-01-04</th>\n",
       "      <td>28.228485</td>\n",
       "      <td>1319.400024</td>\n",
       "      <td>242.385223</td>\n",
       "      <td>99.550728</td>\n",
       "    </tr>\n",
       "    <tr>\n",
       "      <th>2018-01-05</th>\n",
       "      <td>28.359392</td>\n",
       "      <td>1320.300049</td>\n",
       "      <td>241.148911</td>\n",
       "      <td>98.911636</td>\n",
       "    </tr>\n",
       "    <tr>\n",
       "      <th>2018-01-08</th>\n",
       "      <td>28.163034</td>\n",
       "      <td>1318.599976</td>\n",
       "      <td>237.647583</td>\n",
       "      <td>99.057709</td>\n",
       "    </tr>\n",
       "    <tr>\n",
       "      <th>2018-01-09</th>\n",
       "      <td>28.303289</td>\n",
       "      <td>1311.699951</td>\n",
       "      <td>239.657822</td>\n",
       "      <td>99.559853</td>\n",
       "    </tr>\n",
       "    <tr>\n",
       "      <th>2018-01-10</th>\n",
       "      <td>28.565096</td>\n",
       "      <td>1317.400024</td>\n",
       "      <td>240.025833</td>\n",
       "      <td>100.655426</td>\n",
       "    </tr>\n",
       "    <tr>\n",
       "      <th>2018-01-11</th>\n",
       "      <td>28.667950</td>\n",
       "      <td>1320.599976</td>\n",
       "      <td>240.780884</td>\n",
       "      <td>101.194084</td>\n",
       "    </tr>\n",
       "    <tr>\n",
       "      <th>2018-01-12</th>\n",
       "      <td>29.163519</td>\n",
       "      <td>1333.400024</td>\n",
       "      <td>242.574020</td>\n",
       "      <td>102.864822</td>\n",
       "    </tr>\n",
       "    <tr>\n",
       "      <th>2018-01-16</th>\n",
       "      <td>29.210262</td>\n",
       "      <td>1335.400024</td>\n",
       "      <td>243.923553</td>\n",
       "      <td>102.499626</td>\n",
       "    </tr>\n",
       "    <tr>\n",
       "      <th>2018-01-17</th>\n",
       "      <td>29.154165</td>\n",
       "      <td>1338.000000</td>\n",
       "      <td>239.384109</td>\n",
       "      <td>103.156975</td>\n",
       "    </tr>\n",
       "    <tr>\n",
       "      <th>2018-01-18</th>\n",
       "      <td>29.434673</td>\n",
       "      <td>1326.000000</td>\n",
       "      <td>236.854843</td>\n",
       "      <td>103.403481</td>\n",
       "    </tr>\n",
       "    <tr>\n",
       "      <th>2018-01-19</th>\n",
       "      <td>29.659077</td>\n",
       "      <td>1331.900024</td>\n",
       "      <td>241.715164</td>\n",
       "      <td>103.175232</td>\n",
       "    </tr>\n",
       "    <tr>\n",
       "      <th>2018-01-22</th>\n",
       "      <td>29.864784</td>\n",
       "      <td>1330.900024</td>\n",
       "      <td>246.811478</td>\n",
       "      <td>104.380348</td>\n",
       "    </tr>\n",
       "    <tr>\n",
       "      <th>2018-01-23</th>\n",
       "      <td>29.846085</td>\n",
       "      <td>1335.699951</td>\n",
       "      <td>245.461899</td>\n",
       "      <td>104.270798</td>\n",
       "    </tr>\n",
       "    <tr>\n",
       "      <th>2018-01-24</th>\n",
       "      <td>30.005039</td>\n",
       "      <td>1355.900024</td>\n",
       "      <td>250.737457</td>\n",
       "      <td>105.603745</td>\n",
       "    </tr>\n",
       "    <tr>\n",
       "      <th>2018-01-25</th>\n",
       "      <td>30.005039</td>\n",
       "      <td>1362.400024</td>\n",
       "      <td>253.899063</td>\n",
       "      <td>105.631142</td>\n",
       "    </tr>\n",
       "    <tr>\n",
       "      <th>2018-01-26</th>\n",
       "      <td>30.107893</td>\n",
       "      <td>1351.599976</td>\n",
       "      <td>253.059189</td>\n",
       "      <td>106.197166</td>\n",
       "    </tr>\n",
       "    <tr>\n",
       "      <th>2018-01-29</th>\n",
       "      <td>30.182695</td>\n",
       "      <td>NaN</td>\n",
       "      <td>257.155090</td>\n",
       "      <td>106.087608</td>\n",
       "    </tr>\n",
       "    <tr>\n",
       "      <th>2018-01-30</th>\n",
       "      <td>29.808685</td>\n",
       "      <td>1335.400024</td>\n",
       "      <td>253.814133</td>\n",
       "      <td>105.092476</td>\n",
       "    </tr>\n",
       "  </tbody>\n",
       "</table>\n",
       "</div>"
      ],
      "text/plain": [
       "                  BAC         GC=F          GS         JPM\n",
       "Date                                                      \n",
       "2018-01-02  27.957329  1313.699951  241.290482   98.044830\n",
       "2018-01-03  27.863823  1316.199951  239.044327   98.144745\n",
       "2018-01-04  28.228485  1319.400024  242.385223   99.550728\n",
       "2018-01-05  28.359392  1320.300049  241.148911   98.911636\n",
       "2018-01-08  28.163034  1318.599976  237.647583   99.057709\n",
       "2018-01-09  28.303289  1311.699951  239.657822   99.559853\n",
       "2018-01-10  28.565096  1317.400024  240.025833  100.655426\n",
       "2018-01-11  28.667950  1320.599976  240.780884  101.194084\n",
       "2018-01-12  29.163519  1333.400024  242.574020  102.864822\n",
       "2018-01-16  29.210262  1335.400024  243.923553  102.499626\n",
       "2018-01-17  29.154165  1338.000000  239.384109  103.156975\n",
       "2018-01-18  29.434673  1326.000000  236.854843  103.403481\n",
       "2018-01-19  29.659077  1331.900024  241.715164  103.175232\n",
       "2018-01-22  29.864784  1330.900024  246.811478  104.380348\n",
       "2018-01-23  29.846085  1335.699951  245.461899  104.270798\n",
       "2018-01-24  30.005039  1355.900024  250.737457  105.603745\n",
       "2018-01-25  30.005039  1362.400024  253.899063  105.631142\n",
       "2018-01-26  30.107893  1351.599976  253.059189  106.197166\n",
       "2018-01-29  30.182695          NaN  257.155090  106.087608\n",
       "2018-01-30  29.808685  1335.400024  253.814133  105.092476"
      ]
     },
     "execution_count": 4,
     "metadata": {},
     "output_type": "execute_result"
    }
   ],
   "source": [
    "df.head(20)"
   ]
  },
  {
   "cell_type": "code",
   "execution_count": 5,
   "metadata": {},
   "outputs": [
    {
     "name": "stdout",
     "output_type": "stream",
     "text": [
      "[*********************100%***********************]  3 of 3 completed\n"
     ]
    },
    {
     "data": {
      "text/html": [
       "<div>\n",
       "<style scoped>\n",
       "    .dataframe tbody tr th:only-of-type {\n",
       "        vertical-align: middle;\n",
       "    }\n",
       "\n",
       "    .dataframe tbody tr th {\n",
       "        vertical-align: top;\n",
       "    }\n",
       "\n",
       "    .dataframe thead th {\n",
       "        text-align: right;\n",
       "    }\n",
       "</style>\n",
       "<table border=\"1\" class=\"dataframe\">\n",
       "  <thead>\n",
       "    <tr style=\"text-align: right;\">\n",
       "      <th></th>\n",
       "      <th>BAC</th>\n",
       "      <th>GS</th>\n",
       "      <th>JPM</th>\n",
       "    </tr>\n",
       "    <tr>\n",
       "      <th>Date</th>\n",
       "      <th></th>\n",
       "      <th></th>\n",
       "      <th></th>\n",
       "    </tr>\n",
       "  </thead>\n",
       "  <tbody>\n",
       "    <tr>\n",
       "      <th>2019-12-31</th>\n",
       "      <td>34.300117</td>\n",
       "      <td>224.522446</td>\n",
       "      <td>133.553284</td>\n",
       "    </tr>\n",
       "    <tr>\n",
       "      <th>2020-01-02</th>\n",
       "      <td>34.709141</td>\n",
       "      <td>228.809219</td>\n",
       "      <td>135.172424</td>\n",
       "    </tr>\n",
       "    <tr>\n",
       "      <th>2020-01-03</th>\n",
       "      <td>33.988472</td>\n",
       "      <td>226.133667</td>\n",
       "      <td>133.388611</td>\n",
       "    </tr>\n",
       "    <tr>\n",
       "      <th>2020-01-06</th>\n",
       "      <td>33.939774</td>\n",
       "      <td>228.447922</td>\n",
       "      <td>133.282562</td>\n",
       "    </tr>\n",
       "    <tr>\n",
       "      <th>2020-01-07</th>\n",
       "      <td>33.715782</td>\n",
       "      <td>229.951706</td>\n",
       "      <td>131.016678</td>\n",
       "    </tr>\n",
       "  </tbody>\n",
       "</table>\n",
       "</div>"
      ],
      "text/plain": [
       "                  BAC          GS         JPM\n",
       "Date                                         \n",
       "2019-12-31  34.300117  224.522446  133.553284\n",
       "2020-01-02  34.709141  228.809219  135.172424\n",
       "2020-01-03  33.988472  226.133667  133.388611\n",
       "2020-01-06  33.939774  228.447922  133.282562\n",
       "2020-01-07  33.715782  229.951706  131.016678"
      ]
     },
     "execution_count": 5,
     "metadata": {},
     "output_type": "execute_result"
    }
   ],
   "source": [
    "stocks = ['JPM', 'GS', 'BAC']\n",
    "df1 = yf.download(stocks, '2020-01-01', '2021-01-01')['Adj Close']\n",
    "df1.head(5)"
   ]
  },
  {
   "cell_type": "code",
   "execution_count": 6,
   "metadata": {},
   "outputs": [
    {
     "data": {
      "text/plain": [
       "<AxesSubplot:xlabel='Date'>"
      ]
     },
     "execution_count": 6,
     "metadata": {},
     "output_type": "execute_result"
    },
    {
     "data": {
      "text/plain": [
       "<Figure size 1440x720 with 0 Axes>"
      ]
     },
     "metadata": {},
     "output_type": "display_data"
    },
    {
     "data": {
      "image/png": "[encoded data removed]",
      "text/plain": [
       "<Figure size 432x288 with 1 Axes>"
      ]
     },
     "metadata": {
      "needs_background": "light"
     },
     "output_type": "display_data"
    }
   ],
   "source": [
    "plt.figure(figsize=[20,10])\n",
    "df1.plot()"
   ]
  },
  {
   "cell_type": "code",
   "execution_count": 8,
   "metadata": {},
   "outputs": [
    {
     "data": {
      "text/plain": [
       "<AxesSubplot:xlabel='Date'>"
      ]
     },
     "execution_count": 8,
     "metadata": {},
     "output_type": "execute_result"
    },
    {
     "data": {
      "text/plain": [
       "<Figure size 1008x432 with 0 Axes>"
      ]
     },
     "metadata": {},
     "output_type": "display_data"
    },
    {
     "data": {
      "image/png": "[encoded data removed]",
      "text/plain": [
       "<Figure size 432x288 with 1 Axes>"
      ]
     },
     "metadata": {
      "needs_background": "light"
     },
     "output_type": "display_data"
    }
   ],
   "source": [
    "# Normalizing the dataset\n",
    "## Dividing by the price from day one\n",
    "\n",
    "plt.figure(figsize=[14,6])\n",
    "df2 = df1 / df1.iloc[0, :]\n",
    "df2.plot()"
   ]
  },
  {
   "cell_type": "code",
   "execution_count": null,
   "metadata": {},
   "outputs": [],
   "source": []
  }
 ],
 "metadata": {
  "kernelspec": {
   "display_name": "Python 3",
   "language": "python",
   "name": "python3"
  },
  "language_info": {
   "codemirror_mode": {
    "name": "ipython",
    "version": 3
   },
   "file_extension": ".py",
   "mimetype": "text/x-python",
   "name": "python",
   "nbconvert_exporter": "python",
   "pygments_lexer": "ipython3",
   "version": "3.8.5"
  }
 },
 "nbformat": 4,
 "nbformat_minor": 4
}
